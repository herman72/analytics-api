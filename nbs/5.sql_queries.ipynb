{
 "cells": [
  {
   "cell_type": "code",
   "execution_count": 1,
   "metadata": {},
   "outputs": [],
   "source": [
    "import sys\n",
    "from pathlib import Path"
   ]
  },
  {
   "cell_type": "code",
   "execution_count": 4,
   "metadata": {},
   "outputs": [],
   "source": [
    "src_path = Path(\"../src\").resolve()\n",
    "sys.path.append(str(src_path))"
   ]
  },
  {
   "cell_type": "code",
   "execution_count": 7,
   "metadata": {},
   "outputs": [],
   "source": [
    "from sqlmodel import Session, select\n",
    "from api.events.models import EventModel\n",
    "from api.db.session import engine"
   ]
  },
  {
   "cell_type": "code",
   "execution_count": 9,
   "metadata": {},
   "outputs": [
    {
     "name": "stdout",
     "output_type": "stream",
     "text": [
      "SELECT eventmodel.id, eventmodel.time, eventmodel.page, eventmodel.description, eventmodel.updated_at \n",
      "FROM eventmodel ORDER BY eventmodel.updated_at ASC\n",
      " LIMIT 10\n",
      "\n",
      "SELECT eventmodel.id, eventmodel.time, eventmodel.page, eventmodel.description, eventmodel.updated_at \n",
      "FROM eventmodel ORDER BY eventmodel.updated_at ASC\n",
      " LIMIT :param_1\n"
     ]
    }
   ],
   "source": [
    "with Session(engine) as session:\n",
    "    query = select(EventModel).order_by(EventModel.updated_at.asc()).limit(10)\n",
    "    compiled_query = query.compile(compile_kwargs={\"literal_binds\": True})\n",
    "    print(compiled_query)\n",
    "    print(\"\")\n",
    "    print(str(query))\n",
    "    # results = session.exec(query).fetchall()\n",
    "    # print(results)"
   ]
  },
  {
   "cell_type": "code",
   "execution_count": 14,
   "metadata": {},
   "outputs": [
    {
     "name": "stdout",
     "output_type": "stream",
     "text": [
      "[(datetime.datetime(2025, 4, 2, 0, 0, tzinfo=datetime.timezone.utc), '/about', 1968),\n",
      " (datetime.datetime(2025, 4, 2, 0, 0, tzinfo=datetime.timezone.utc), '/contact', 2044),\n",
      " (datetime.datetime(2025, 4, 2, 0, 0, tzinfo=datetime.timezone.utc), '/pages', 2029),\n",
      " (datetime.datetime(2025, 4, 2, 0, 0, tzinfo=datetime.timezone.utc), '/pricing', 1969)]\n"
     ]
    }
   ],
   "source": [
    "from timescaledb.hyperfunctions import time_bucket\n",
    "from pprint import pprint\n",
    "from sqlalchemy import func\n",
    "\n",
    "from datetime import datetime, timedelta, timezone\n",
    "\n",
    "with Session(engine) as session:\n",
    "    bucket = time_bucket(\"1 day\", EventModel.time)\n",
    "    pages = ['/about', '/contact', '/pages', '/pricing']\n",
    "    start = datetime.now(timezone.utc) - timedelta(hours=1)\n",
    "    finish = datetime.now(timezone.utc) + timedelta(hours=1)\n",
    "    query = (\n",
    "        select(\n",
    "            bucket,\n",
    "            EventModel.page,\n",
    "            func.count()\n",
    "        )\n",
    "        .where(\n",
    "            EventModel.time > start,\n",
    "            EventModel.time <= finish,\n",
    "            EventModel.page.in_(pages)\n",
    "        )\n",
    "        .group_by(\n",
    "            bucket,\n",
    "            EventModel.page,\n",
    "        )\n",
    "        .order_by(\n",
    "            bucket,\n",
    "            EventModel.page,\n",
    "        )\n",
    "    )\n",
    "    compiled_query = query.compile(compile_kwargs={\"literal_binds\": True})\n",
    "    # print(compiled_query)\n",
    "    results = session.exec(query).fetchall()\n",
    "    pprint(results)"
   ]
  },
  {
   "cell_type": "code",
   "execution_count": null,
   "metadata": {},
   "outputs": [],
   "source": []
  }
 ],
 "metadata": {
  "kernelspec": {
   "display_name": ".venv",
   "language": "python",
   "name": "python3"
  },
  "language_info": {
   "codemirror_mode": {
    "name": "ipython",
    "version": 3
   },
   "file_extension": ".py",
   "mimetype": "text/x-python",
   "name": "python",
   "nbconvert_exporter": "python",
   "pygments_lexer": "ipython3",
   "version": "3.12.5"
  }
 },
 "nbformat": 4,
 "nbformat_minor": 2
}
